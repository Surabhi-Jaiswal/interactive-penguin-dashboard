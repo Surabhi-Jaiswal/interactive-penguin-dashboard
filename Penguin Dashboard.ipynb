{
 "cells": [
  {
   "cell_type": "code",
   "execution_count": 29,
   "id": "fb08769f",
   "metadata": {},
   "outputs": [],
   "source": [
    "import dash\n",
    "import dash_core_components as dcc\n",
    "import dash_html_components as html\n",
    "from dash.dependencies import Input, Output\n",
    "import plotly.express as px\n",
    "import pandas as pd"
   ]
  },
  {
   "cell_type": "code",
   "execution_count": 30,
   "id": "7b0a9977",
   "metadata": {},
   "outputs": [],
   "source": [
    "df = pd.read_csv(\"penguins.csv\")"
   ]
  },
  {
   "cell_type": "code",
   "execution_count": 31,
   "id": "ba7d9227",
   "metadata": {},
   "outputs": [],
   "source": [
    "total_penguins = len(df)\n",
    "avg_bill_length = df['bill_length_mm'].mean()\n",
    "avg_body_mass = df['body_mass_g'].mean()\n",
    "most_common_species = df['species'].mode()[0]"
   ]
  },
  {
   "cell_type": "code",
   "execution_count": 32,
   "id": "bdeff8d1",
   "metadata": {},
   "outputs": [],
   "source": [
    "app = dash.Dash(__name__)"
   ]
  },
  {
   "cell_type": "code",
   "execution_count": 33,
   "id": "89147b82",
   "metadata": {},
   "outputs": [],
   "source": [
    "app.layout = html.Div(children=[\n",
    "    \n",
    "    # Title\n",
    "    html.H1(\"Penguin Data Visualization Dashboard\", style={'textAlign': 'center', 'color': '#4A90E2'}),\n",
    "    \n",
    "    html.Div([\n",
    "        html.Div([\n",
    "            html.H3(\"Total Penguins\", style={'textAlign': 'center'}),\n",
    "            html.P(f\"{total_penguins}\", style={'textAlign': 'center', 'fontSize': '24px'})\n",
    "        ], className='metric-box', style={'padding': '10px', 'backgroundColor': '#F0F8FF', 'borderRadius': '10px', 'margin': '10px'}),\n",
    "        \n",
    "        html.Div([\n",
    "            html.H3(\"Average Bill Length (mm)\", style={'textAlign': 'center'}),\n",
    "            html.P(f\"{avg_bill_length:.2f}\", style={'textAlign': 'center', 'fontSize': '24px'})\n",
    "        ], className='metric-box', style={'padding': '10px', 'backgroundColor': '#F0F8FF', 'borderRadius': '10px', 'margin': '10px'}),\n",
    "        \n",
    "        html.Div([\n",
    "            html.H3(\"Average Body Mass (g)\", style={'textAlign': 'center'}),\n",
    "            html.P(f\"{avg_body_mass:.2f}\", style={'textAlign': 'center', 'fontSize': '24px'})\n",
    "        ], className='metric-box', style={'padding': '10px', 'backgroundColor': '#F0F8FF', 'borderRadius': '10px', 'margin': '10px'}),\n",
    "        \n",
    "        html.Div([\n",
    "            html.H3(\"Most Common Species\", style={'textAlign': 'center'}),\n",
    "            html.P(f\"{most_common_species}\", style={'textAlign': 'center', 'fontSize': '24px'})\n",
    "        ], className='metric-box', style={'padding': '10px', 'backgroundColor': '#F0F8FF', 'borderRadius': '10px', 'margin': '10px'})\n",
    "    ], className='metrics-container', style={'display': 'flex', 'justifyContent': 'center'}),\n",
    "    \n",
    "    # Filters Section\n",
    "    html.Div([\n",
    "        html.Label('Select Species', style={'fontWeight': 'bold'}),\n",
    "        dcc.Dropdown(\n",
    "            id='species-filter',\n",
    "            options=[{'label': species, 'value': species} for species in df['species'].unique()],\n",
    "            value=df['species'].unique().tolist(),  # Default to all species\n",
    "            multi=True,\n",
    "            style={'marginBottom': '10px'}\n",
    "        ),\n",
    "        \n",
    "        html.Label('Select Island', style={'fontWeight': 'bold'}),\n",
    "        dcc.Dropdown(\n",
    "            id='island-filter',\n",
    "            options=[{'label': island, 'value': island} for island in df['island'].unique()],\n",
    "            value=df['island'].unique().tolist(),  # Default to all islands\n",
    "            multi=True,\n",
    "            style={'marginBottom': '10px'}\n",
    "        ),\n",
    "        \n",
    "        html.Label('Select Year', style={'fontWeight': 'bold'}),\n",
    "        dcc.Dropdown(\n",
    "            id='year-filter',\n",
    "            options=[{'label': int(year), 'value': year} for year in df['year'].unique()],\n",
    "            value=df['year'].unique().tolist(),  # Default to all years\n",
    "            multi=True,\n",
    "            style={'marginBottom': '10px'}\n",
    "        ),\n",
    "    ], className='filter-container', style={'padding': '20px'}),\n",
    "    \n",
    "    # Graph 1: Bill Length vs Bill Depth\n",
    "    html.Div([\n",
    "        dcc.Graph(id='scatter-plot'),\n",
    "    ], style={'padding': '20px'}),\n",
    "    \n",
    "    # Graph 2: Flipper Length vs Body Mass\n",
    "    html.Div([\n",
    "        dcc.Graph(id='scatter-plot2'),\n",
    "    ], style={'padding': '20px'}),\n",
    "    \n",
    "    # Graph 3: Bar plot of Average Body Mass by Species\n",
    "    html.Div([\n",
    "        dcc.Graph(id='bar-plot'),\n",
    "    ], style={'padding': '20px'}),\n",
    "    \n",
    "    # Graph 4: Pie chart of distribution by island\n",
    "    html.Div([\n",
    "        dcc.Graph(id='pie-chart'),\n",
    "    ], style={'padding': '20px'}),\n",
    "\n",
    "    # Footer\n",
    "    html.Div([\n",
    "        html.Hr(),\n",
    "        html.P(\"Developed by Surabhi Jaiswal\", style={'textAlign': 'center', 'fontSize': '18px', 'color': '#888'})\n",
    "    ], style={'marginTop': '30px'})\n",
    "])"
   ]
  },
  {
   "cell_type": "code",
   "execution_count": 34,
   "id": "914ac33e",
   "metadata": {},
   "outputs": [],
   "source": [
    "@app.callback(\n",
    "    [Output('scatter-plot', 'figure'),\n",
    "     Output('scatter-plot2', 'figure'),\n",
    "     Output('bar-plot', 'figure'),\n",
    "     Output('pie-chart', 'figure')],\n",
    "    [Input('species-filter', 'value'),\n",
    "     Input('island-filter', 'value'),\n",
    "     Input('year-filter', 'value')]\n",
    ")\n",
    "def update_graphs(selected_species, selected_island, selected_year):\n",
    "    filtered_df = df[(df['species'].isin(selected_species)) & \n",
    "                     (df['island'].isin(selected_island)) & \n",
    "                     (df['year'].isin(selected_year))]\n",
    "    \n",
    "    # Scatter plot: Bill Length vs Bill Depth\n",
    "    fig_scatter = px.scatter(\n",
    "        filtered_df, x='bill_length_mm', y='bill_depth_mm', \n",
    "        color='species', \n",
    "        title=\"Bill Length vs Bill Depth\"\n",
    "    )\n",
    "    \n",
    "    # Scatter plot: Flipper Length vs Body Mass\n",
    "    fig_scatter2 = px.scatter(\n",
    "        filtered_df, x='flipper_length_mm', y='body_mass_g', \n",
    "        color='species', \n",
    "        title=\"Flipper Length vs Body Mass\"\n",
    "    )\n",
    "    \n",
    "    # Bar plot: Average Body Mass by Species\n",
    "    avg_body_mass_by_species = filtered_df.groupby('species')['body_mass_g'].mean().reset_index()\n",
    "    fig_bar = px.bar(\n",
    "        avg_body_mass_by_species, \n",
    "        x='species', y='body_mass_g', \n",
    "        title=\"Average Body Mass by Species\"\n",
    "    )\n",
    "    \n",
    "    # Pie chart: Distribution by Island\n",
    "    fig_pie = px.pie(\n",
    "        filtered_df, names='island', \n",
    "        title=\"Penguin Distribution by Island\"\n",
    "    )\n",
    "    \n",
    "    return fig_scatter, fig_scatter2, fig_bar, fig_pie"
   ]
  },
  {
   "cell_type": "code",
   "execution_count": 35,
   "id": "36ae2e4e",
   "metadata": {},
   "outputs": [],
   "source": [
    "import warnings"
   ]
  },
  {
   "cell_type": "code",
   "execution_count": 36,
   "id": "cdcb3173",
   "metadata": {},
   "outputs": [],
   "source": [
    "warnings.filterwarnings(\"ignore\")"
   ]
  },
  {
   "cell_type": "code",
   "execution_count": 37,
   "id": "c6b5376d",
   "metadata": {},
   "outputs": [
    {
     "data": {
      "text/html": [
       "\n",
       "        <iframe\n",
       "            width=\"100%\"\n",
       "            height=\"650\"\n",
       "            src=\"http://127.0.0.1:8051/\"\n",
       "            frameborder=\"0\"\n",
       "            allowfullscreen\n",
       "            \n",
       "        ></iframe>\n",
       "        "
      ],
      "text/plain": [
       "<IPython.lib.display.IFrame at 0x19b7998d6d0>"
      ]
     },
     "metadata": {},
     "output_type": "display_data"
    }
   ],
   "source": [
    "if __name__ == '__main__':\n",
    "    app.run_server(debug=True, port=8051)"
   ]
  },
  {
   "cell_type": "code",
   "execution_count": null,
   "id": "74dc88f1",
   "metadata": {},
   "outputs": [],
   "source": []
  }
 ],
 "metadata": {
  "kernelspec": {
   "display_name": "Python 3 (ipykernel)",
   "language": "python",
   "name": "python3"
  },
  "language_info": {
   "codemirror_mode": {
    "name": "ipython",
    "version": 3
   },
   "file_extension": ".py",
   "mimetype": "text/x-python",
   "name": "python",
   "nbconvert_exporter": "python",
   "pygments_lexer": "ipython3",
   "version": "3.11.5"
  }
 },
 "nbformat": 4,
 "nbformat_minor": 5
}
